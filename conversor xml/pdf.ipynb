{
  "nbformat": 4,
  "nbformat_minor": 0,
  "metadata": {
    "colab": {
      "provenance": [],
      "mount_file_id": "10ifgpsxXGRqi_Sx91QuF_3s15TC_0qFr",
      "authorship_tag": "ABX9TyN+0DNXFDa3irE5K+Y/Hfih",
      "include_colab_link": true
    },
    "kernelspec": {
      "name": "python3",
      "display_name": "Python 3"
    },
    "language_info": {
      "name": "python"
    }
  },
  "cells": [
    {
      "cell_type": "markdown",
      "metadata": {
        "id": "view-in-github",
        "colab_type": "text"
      },
      "source": [
        "<a href=\"https://colab.research.google.com/github/marciinbf5/Calculadora-Dark-theme/blob/main/conversor%20xml/pdf.ipynb\" target=\"_parent\"><img src=\"https://colab.research.google.com/assets/colab-badge.svg\" alt=\"Open In Colab\"/></a>"
      ]
    },
    {
      "cell_type": "code",
      "source": [
        "# prompt: ums script para listar e tabelar todos os arquivos dentro de uma pasta xml\n",
        "\n",
        "import os\n",
        "import pandas as pd\n",
        "\n",
        "def listar_arquivos_xml(pasta):\n",
        "  \"\"\"Lista todos os arquivos XML dentro de uma pasta e retorna um DataFrame com informações.\n",
        "\n",
        "  Args:\n",
        "    pasta: Caminho da pasta onde os arquivos XML estão localizados.\n",
        "\n",
        "  Returns:\n",
        "    Um DataFrame com colunas 'Nome do Arquivo' e 'Caminho Completo'.\n",
        "  \"\"\"\n",
        "  arquivos_xml = []\n",
        "  for raiz, _, arquivos in os.walk(pasta):\n",
        "    for arquivo in arquivos:\n",
        "      if arquivo.endswith(\".xml\"):\n",
        "        caminho_completo = os.path.join(raiz, arquivo)\n",
        "        arquivos_xml.append([arquivo, caminho_completo])\n",
        "\n",
        "  df = pd.DataFrame(arquivos_xml, columns=['xmlvendas', '/content/drive/MyDrive/xmlvendas'])\n",
        "  return df\n",
        "\n",
        "# Exemplo de uso:\n",
        "pasta_xml = '/content/drive/MyDrive/xmlvendas'  # Substitua pelo caminho da sua pasta\n",
        "df_arquivos = listar_arquivos_xml(pasta_xml)\n",
        "display(df_arquivos)\n"
      ],
      "metadata": {
        "id": "nYENuYLMeRwW"
      },
      "execution_count": null,
      "outputs": []
    },
    {
      "cell_type": "code",
      "source": [
        "# prompt: agora quero converter esses arquivo da primeira celula para pdf\n",
        "\n",
        "!pip install pdfkit\n",
        "\n",
        "import pdfkit\n",
        "\n",
        "def xml_para_pdf(caminho_xml, caminho_pdf):\n",
        "  \"\"\"Converte um arquivo XML para PDF usando wkhtmltopdf.\n",
        "\n",
        "  Args:\n",
        "    caminho_xml: Caminho do arquivo XML.\n",
        "    caminho_pdf: Caminho onde o arquivo PDF será salvo.\n",
        "  \"\"\"\n",
        "  try:\n",
        "    pdfkit.from_file(caminho_xml, caminho_pdf)\n",
        "    print(f\"Arquivo XML '{caminho_xml}' convertido para PDF '{caminho_pdf}' com sucesso!\")\n",
        "  except Exception as e:\n",
        "    print(f\"Erro ao converter '{caminho_xml}' para PDF: {e}\")\n",
        "\n",
        "# Exemplo de uso (convertendo o primeiro arquivo XML do DataFrame):\n",
        "if not df_arquivos.empty:\n",
        "  primeiro_arquivo_xml = df_arquivos['/content/drive/MyDrive/xmlvendas'].iloc[0]\n",
        "  nome_arquivo_pdf = os.path.splitext(os.path.basename(primeiro_arquivo_xml))[0] + \".pdf\"\n",
        "  caminho_pdf = os.path.join(\"/content/drive/MyDrive/\", nome_arquivo_pdf)  # Substitua pelo caminho desejado\n",
        "  xml_para_pdf(primeiro_arquivo_xml, caminho_pdf)\n",
        "else:\n",
        " display(\"O DataFrame está vazio. Nenhum arquivo XML encontrado.\")\n"
      ],
      "metadata": {
        "colab": {
          "base_uri": "https://localhost:8080/"
        },
        "id": "2AKaBCEDfPs3",
        "outputId": "db52c03a-0984-4a7f-ea08-f6f5caa4d12a"
      },
      "execution_count": 49,
      "outputs": [
        {
          "output_type": "stream",
          "name": "stdout",
          "text": [
            "Requirement already satisfied: pdfkit in /usr/local/lib/python3.10/dist-packages (1.0.0)\n",
            "Arquivo XML '/content/drive/MyDrive/xmlvendas/31240844776267000140650010000202391785275038-nfe.xml' convertido para PDF '/content/drive/MyDrive/31240844776267000140650010000202391785275038-nfe.pdf' com sucesso!\n"
          ]
        }
      ]
    }
  ]
}